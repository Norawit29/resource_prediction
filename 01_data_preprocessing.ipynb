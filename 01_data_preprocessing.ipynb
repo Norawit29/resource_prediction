{
  "nbformat": 4,
  "nbformat_minor": 0,
  "metadata": {
    "colab": {
      "provenance": [],
      "authorship_tag": "ABX9TyMUKlXcJ+BuH5CRIg0mMtGq",
      "include_colab_link": true
    },
    "kernelspec": {
      "name": "python3",
      "display_name": "Python 3"
    },
    "language_info": {
      "name": "python"
    }
  },
  "cells": [
    {
      "cell_type": "markdown",
      "metadata": {
        "id": "view-in-github",
        "colab_type": "text"
      },
      "source": [
        "<a href=\"https://colab.research.google.com/github/Norawit29/resource_prediction/blob/main/01_data_preprocessing.ipynb\" target=\"_parent\"><img src=\"https://colab.research.google.com/assets/colab-badge.svg\" alt=\"Open In Colab\"/></a>"
      ]
    },
    {
      "cell_type": "markdown",
      "source": [
        "##Part 1. Data Preprocessing"
      ],
      "metadata": {
        "id": "RwSLubMFG4aO"
      }
    },
    {
      "cell_type": "code",
      "source": [
        "import pandas as pd\n",
        "from sklearn.model_selection import train_test_split\n",
        "from sklearn.impute import SimpleImputer\n",
        "from sklearn.preprocessing import StandardScaler, OneHotEncoder\n",
        "from sklearn.compose import ColumnTransformer\n",
        "from sklearn.feature_extraction.text import TfidfVectorizer\n",
        "from sklearn.pipeline import Pipeline\n",
        "\n",
        "# Load  dataset\n",
        "# df = pd.read_csv('your_dataset.csv')\n",
        "\n",
        "# Define feature sets\n",
        "numerical_features = ['age', 'heartrate', 'sbp', 'dbp', 'BT', 'RR', 'so2']\n",
        "categorical_features = ['gender', 'mode_of_arrival']\n",
        "text_feature = 'chiefcomplain'\n",
        "target_column = 'target_column'\n",
        "\n",
        "# Splitting the data into train and test sets\n",
        "X = df[numerical_features + categorical_features + [text_feature]]\n",
        "y = df[target_column]\n",
        "X_train, X_test, y_train, y_test = train_test_split(X, y, test_size=0.2, random_state=42)\n",
        "\n",
        "# Preprocessing pipelines for numerical, categorical, and text data\n",
        "numerical_pipeline = Pipeline([\n",
        "    ('imputer', SimpleImputer(strategy='median')),\n",
        "    ('std_scaler', StandardScaler())\n",
        "])\n",
        "\n",
        "categorical_pipeline = Pipeline([\n",
        "    ('encoder', OneHotEncoder(handle_unknown='ignore'))\n",
        "])\n",
        "\n",
        "text_pipeline = Pipeline([\n",
        "    ('tfidf',TfidfVectorizer(stop_words='english', lowercase=True), ngram_range=(1, 2))\n",
        "])\n",
        "\n",
        "# Combining preprocessing steps\n",
        "preprocessor = ColumnTransformer([\n",
        "    ('num', numerical_pipeline, numerical_features),\n",
        "    ('cat', categorical_pipeline, categorical_features),\n",
        "    ('text', text_pipeline, text_feature)\n",
        "])\n",
        "\n"
      ],
      "metadata": {
        "id": "iG4-1xYxG78O"
      },
      "execution_count": null,
      "outputs": []
    },
    {
      "cell_type": "markdown",
      "source": [
        "## Notes\n",
        "#### - handle out-of-range value (drop values or impute? If imputing, determine best method?)\n",
        "#### - missing value might have meanings --> too severe to measure v/s ??"
      ],
      "metadata": {
        "id": "sXBATnJwcHZp"
      }
    }
  ]
}